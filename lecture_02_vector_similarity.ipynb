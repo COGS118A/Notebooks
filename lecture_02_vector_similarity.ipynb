{
 "cells": [
  {
   "cell_type": "markdown",
   "id": "0e8eda2b",
   "metadata": {},
   "source": [
    "[![Open In Colab](https://colab.research.google.com/assets/colab-badge.svg)](https://colab.research.google.com/github/COGS118A/demo_notebooks/blob/main/lecture_02_vector_similarity.ipynb)"
   ]
  },
  {
   "cell_type": "code",
   "execution_count": null,
   "id": "c371a5fc",
   "metadata": {},
   "outputs": [],
   "source": [
    "import numpy as np"
   ]
  },
  {
   "cell_type": "markdown",
   "id": "aeb24687",
   "metadata": {},
   "source": [
    "# vector space representation\n",
    "...for the animal vector one-hot encoding slide\n",
    "\n",
    "[ fly yes, fly no, eggs yes, eggs no, weight (lbs)]"
   ]
  },
  {
   "cell_type": "code",
   "execution_count": null,
   "id": "727e8b68",
   "metadata": {},
   "outputs": [],
   "source": [
    "sparrow = np.array( [1,0,1,0,0.087] )\n",
    "sparrow"
   ]
  },
  {
   "cell_type": "code",
   "execution_count": null,
   "id": "fb1411ab",
   "metadata": {},
   "outputs": [],
   "source": [
    "chipmunk = np.array([0,1,0,1,0.19])\n",
    "chipmunk"
   ]
  },
  {
   "cell_type": "code",
   "execution_count": null,
   "id": "70b0d637",
   "metadata": {},
   "outputs": [],
   "source": [
    "np.dot(sparrow,chipmunk)"
   ]
  },
  {
   "cell_type": "code",
   "execution_count": null,
   "id": "b81cb601",
   "metadata": {},
   "outputs": [],
   "source": [
    "# now YOU do the other two possibilities: chipmunk vs bat, bat vs sparrow\n",
    "# yep first you've got to define the bat vector from the slide on the screen\n",
    "# what do you notice?"
   ]
  },
  {
   "cell_type": "markdown",
   "id": "3094545d",
   "metadata": {},
   "source": [
    "Why do we use one-hot and not just 0/1 in a single vector place? \n",
    " \n",
    "To understand, extend this from binary to 3 possibilities... one of variables is color, which can take the values of red, green, or blue.  Encode red as 1, green as 2, blue as 3.  Now do vector math... "
   ]
  },
  {
   "cell_type": "code",
   "execution_count": null,
   "id": "5d1ca890",
   "metadata": {},
   "outputs": [],
   "source": [
    "d1 = np.array([1, 0.19]) # red sparrow\n",
    "d2 = np.array([2, 0.19]) # green sparrow\n",
    "d3 = np.array([3, 0.19]) # blue sparrow"
   ]
  },
  {
   "cell_type": "code",
   "execution_count": null,
   "id": "c3051700",
   "metadata": {},
   "outputs": [],
   "source": [
    "np.dot(d1, d2)"
   ]
  },
  {
   "cell_type": "code",
   "execution_count": null,
   "id": "f1f36299",
   "metadata": {},
   "outputs": [],
   "source": [
    "np.dot(d1, d3)"
   ]
  },
  {
   "cell_type": "code",
   "execution_count": null,
   "id": "9159df49",
   "metadata": {},
   "outputs": [],
   "source": [
    "# what do you notice about d1 dot d2 and d1 dot d3?\n",
    "# what about if we one hot encode color instead?"
   ]
  },
  {
   "cell_type": "code",
   "execution_count": null,
   "id": "5b361363",
   "metadata": {},
   "outputs": [],
   "source": [
    "d1_ohot = np.array([ ??? ]) # red sparrow\n",
    "d2_ohot = np.array([ ??? ]) # green sparrow\n",
    "d3_ohot = np.array([ ??? ]) # blue sparrow"
   ]
  },
  {
   "cell_type": "code",
   "execution_count": null,
   "id": "ca01faf3",
   "metadata": {},
   "outputs": [],
   "source": [
    "np.dot(d1_ohot,d3_ohot)"
   ]
  },
  {
   "cell_type": "code",
   "execution_count": null,
   "id": "1021dbed",
   "metadata": {},
   "outputs": [],
   "source": [
    "np.dot(d1_ohot,d2_ohot)"
   ]
  }
 ],
 "metadata": {
  "kernelspec": {
   "display_name": "Python 3 (ipykernel)",
   "language": "python",
   "name": "python3"
  },
  "language_info": {
   "codemirror_mode": {
    "name": "ipython",
    "version": 3
   },
   "file_extension": ".py",
   "mimetype": "text/x-python",
   "name": "python",
   "nbconvert_exporter": "python",
   "pygments_lexer": "ipython3",
   "version": "3.9.12"
  }
 },
 "nbformat": 4,
 "nbformat_minor": 5
}
